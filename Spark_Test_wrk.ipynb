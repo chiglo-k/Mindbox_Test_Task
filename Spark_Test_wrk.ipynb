{
  "nbformat": 4,
  "nbformat_minor": 0,
  "metadata": {
    "colab": {
      "provenance": [],
      "authorship_tag": "ABX9TyNAIw/t+PG/0QKgnOoMINxE",
      "include_colab_link": true
    },
    "kernelspec": {
      "name": "python3",
      "display_name": "Python 3"
    },
    "language_info": {
      "name": "python"
    }
  },
  "cells": [
    {
      "cell_type": "markdown",
      "metadata": {
        "id": "view-in-github",
        "colab_type": "text"
      },
      "source": [
        "<a href=\"https://colab.research.google.com/github/chiglo-k/Mindbox_Test_Task/blob/main/Spark_Test_wrk.ipynb\" target=\"_parent\"><img src=\"https://colab.research.google.com/assets/colab-badge.svg\" alt=\"Open In Colab\"/></a>"
      ]
    },
    {
      "cell_type": "code",
      "execution_count": 4,
      "metadata": {
        "colab": {
          "base_uri": "https://localhost:8080/"
        },
        "id": "n2SuqeYfNijj",
        "outputId": "b506f304-fd6d-4949-b581-81d57723e97b"
      },
      "outputs": [
        {
          "output_type": "stream",
          "name": "stdout",
          "text": [
            "Spark версия: 3.5.1\n"
          ]
        }
      ],
      "source": [
        "from pyspark.sql import SparkSession\n",
        "from pyspark.sql.functions import col, when, count\n",
        "from pyspark.sql.types import StructType, StructField, StringType, IntegerType\n",
        "\n",
        "# Создание Spark Session\n",
        "spark = SparkSession.builder \\\n",
        "    .appName(\"ProductCategoty\") \\\n",
        "    .master(\"local[*]\") \\\n",
        "    .config(\"spark.sql.adaptive.enabled\", \"true\") \\\n",
        "    .getOrCreate()\n",
        "\n",
        "print(f\"Spark версия: {spark.version}\")"
      ]
    },
    {
      "cell_type": "code",
      "source": [
        "def create_test_dataframes():\n",
        "    \"\"\"Создание фреймов\"\"\"\n",
        "\n",
        "    # Продукты (Индекс - Наименование продукции)\n",
        "    products_data = [\n",
        "        (1, \"iPhone 15 Pro\"),\n",
        "        (2, \"MacBook Air M2\"),\n",
        "        (3, \"Magic Mouse\"),\n",
        "        (4, \"iPad Pro\"),\n",
        "        (5, \"AirPods Pro\"),\n",
        "        (6, \"Товар без категории\"),\n",
        "        (7, \"Apple Watch\"),\n",
        "        (8, \"Неизвестный Продукт\")\n",
        "    ]\n",
        "\n",
        "    products_df = spark.createDataFrame(products_data, [\"product_id\", \"product_name\"])\n",
        "\n",
        "    # Категории (Индекс - Категория продукции)\n",
        "    categories_data = [\n",
        "        (1, \"Смартфоны\"),\n",
        "        (2, \"Ноутбуки\"),\n",
        "        (3, \"Аксессуары\"),\n",
        "        (4, \"Планшеты\"),\n",
        "        (5, \"Аудио\"),\n",
        "        (6, \"Носимые устройства\")\n",
        "    ]\n",
        "\n",
        "    categories_df = spark.createDataFrame(categories_data, [\"category_id\", \"category_name\"])\n",
        "\n",
        "    # Связи многие-ко-многим\n",
        "    relations_data = [\n",
        "        (1, 1),  # iPhone -> Смартфоны\n",
        "        (2, 2),  # MacBook -> Ноутбуки\n",
        "        (3, 3),  # Mouse -> Аксессуары\n",
        "        (4, 4),  # iPad -> Планшеты\n",
        "        (4, 3),  # iPad -> Аксессуары\n",
        "        (5, 5),  # AirPods -> Аудио\n",
        "        (5, 3),  # AirPods -> Аксессуары\n",
        "        (7, 6),  # Apple Watch -> Носимые устройства\n",
        "        (7, 3),  # Apple Watch -> Аксессуары\n",
        "        # Продукты 6 и 8 без категорий\n",
        "    ]\n",
        "\n",
        "    relations_df = spark.createDataFrame(relations_data, [\"product_id\", \"category_id\"])\n",
        "\n",
        "    return products_df, categories_df, relations_df\n",
        "\n",
        "products_df, categories_df, relations_df = create_test_dataframes()\n",
        "\n",
        "print(\"Исходные данные созданы:\")\n",
        "print(\"Продукты:\")\n",
        "products_df.show()\n",
        "print(\"Категории:\")\n",
        "categories_df.show()\n",
        "print(\"Связи продукт-категория:\")\n",
        "relations_df.show()"
      ],
      "metadata": {
        "colab": {
          "base_uri": "https://localhost:8080/"
        },
        "id": "qqzpgT4sNyE8",
        "outputId": "7feedd0a-1fb1-4228-8a62-be1a5b974ae6"
      },
      "execution_count": 6,
      "outputs": [
        {
          "output_type": "stream",
          "name": "stdout",
          "text": [
            "Исходные данные созданы:\n",
            "Продукты:\n",
            "+----------+-------------------+\n",
            "|product_id|       product_name|\n",
            "+----------+-------------------+\n",
            "|         1|      iPhone 15 Pro|\n",
            "|         2|     MacBook Air M2|\n",
            "|         3|        Magic Mouse|\n",
            "|         4|           iPad Pro|\n",
            "|         5|        AirPods Pro|\n",
            "|         6|Товар без категории|\n",
            "|         7|        Apple Watch|\n",
            "|         8|Неизвестный Продукт|\n",
            "+----------+-------------------+\n",
            "\n",
            "Категории:\n",
            "+-----------+------------------+\n",
            "|category_id|     category_name|\n",
            "+-----------+------------------+\n",
            "|          1|         Смартфоны|\n",
            "|          2|          Ноутбуки|\n",
            "|          3|        Аксессуары|\n",
            "|          4|          Планшеты|\n",
            "|          5|             Аудио|\n",
            "|          6|Носимые устройства|\n",
            "+-----------+------------------+\n",
            "\n",
            "Связи продукт-категория:\n",
            "+----------+-----------+\n",
            "|product_id|category_id|\n",
            "+----------+-----------+\n",
            "|         1|          1|\n",
            "|         2|          2|\n",
            "|         3|          3|\n",
            "|         4|          4|\n",
            "|         4|          3|\n",
            "|         5|          5|\n",
            "|         5|          3|\n",
            "|         7|          6|\n",
            "|         7|          3|\n",
            "+----------+-----------+\n",
            "\n"
          ]
        }
      ]
    },
    {
      "cell_type": "code",
      "source": [
        "def get_all_product_category_pairs(products_df, categories_df, relations_df):\n",
        "    \"\"\"\n",
        "    Создание единого фрейма\n",
        "    \"\"\"\n",
        "\n",
        "    # LEFT JOIN: продукты -> связи -> категории\n",
        "    result = products_df \\\n",
        "        .join(relations_df, on=\"product_id\", how=\"left\") \\\n",
        "        .join(categories_df, on=\"category_id\", how=\"left\") \\\n",
        "        .select(\"product_name\", \"category_name\") \\\n",
        "        .orderBy(\"product_name\", \"category_name\")\n",
        "\n",
        "    return result\n",
        "\n",
        "result_df = get_all_product_category_pairs(products_df, categories_df, relations_df)\n",
        "\n",
        "\n",
        "print(\"\\nВсе пары продукт-категория:\")\n",
        "result_df.show(truncate=False)\n",
        "result_df_wth_category = result_df.where('category_name IS NULL')\n",
        "print(\"\\nПродукты без категории\")\n",
        "result_df_wth_category.show()"
      ],
      "metadata": {
        "colab": {
          "base_uri": "https://localhost:8080/"
        },
        "id": "_aMIP0gwNyPG",
        "outputId": "c92613b5-fd71-44ff-ad86-cff79dc08635"
      },
      "execution_count": 17,
      "outputs": [
        {
          "output_type": "stream",
          "name": "stdout",
          "text": [
            "\n",
            "Все пары продукт-категория:\n",
            "+-------------------+------------------+\n",
            "|product_name       |category_name     |\n",
            "+-------------------+------------------+\n",
            "|AirPods Pro        |Аксессуары        |\n",
            "|AirPods Pro        |Аудио             |\n",
            "|Apple Watch        |Аксессуары        |\n",
            "|Apple Watch        |Носимые устройства|\n",
            "|MacBook Air M2     |Ноутбуки          |\n",
            "|Magic Mouse        |Аксессуары        |\n",
            "|iPad Pro           |Аксессуары        |\n",
            "|iPad Pro           |Планшеты          |\n",
            "|iPhone 15 Pro      |Смартфоны         |\n",
            "|Неизвестный Продукт|NULL              |\n",
            "|Товар без категории|NULL              |\n",
            "+-------------------+------------------+\n",
            "\n",
            "\n",
            "Продукты без категории\n",
            "+-------------------+-------------+\n",
            "|       product_name|category_name|\n",
            "+-------------------+-------------+\n",
            "|Неизвестный Продукт|         NULL|\n",
            "|Товар без категории|         NULL|\n",
            "+-------------------+-------------+\n",
            "\n"
          ]
        }
      ]
    }
  ]
}